{
    "metadata": {
        "kernelspec": {
            "name": "SQL",
            "display_name": "SQL",
            "language": "sql"
        },
        "language_info": {
            "name": "sql",
            "version": ""
        }
    },
    "nbformat_minor": 2,
    "nbformat": 4,
    "cells": [
        {
            "cell_type": "markdown",
            "source": [
                "# Exercises: Creating, Updating, and Destroying Objects\n",
                "\n",
                "For the exercises, you will be working with objects and data you create. Before opening this notebook, make sure that you have set up the new connection to the server and that you have located the database and your schema.\n",
                "\n",
                "## Object Creation\n",
                "\n",
                "Before coding, think of three things you want to make. These could be coding projects, new recipes, or planned projects for a woodworking hobby. Brainstorm the appropriate column names and data types as well.\n",
                "\n",
                "Create a table under your schema called `planned_makes`."
            ],
            "metadata": {
                "azdata_cell_guid": "9d51c166-0c19-4f27-a422-2a6cf596bfb2"
            },
            "attachments": {}
        },
        {
            "cell_type": "code",
            "source": [
                "CREATE TABLE Elizabeth.planned_makes_test\n",
                "(\n",
                "    Design_Name VARCHAR (50) NOT NULL,\n",
                "    Needle_size INT NOT NULL, \n",
                "    Cuteness_rating INT NOT NULL,\n",
                "    Notes VARCHAR (100),\n",
                ");"
            ],
            "metadata": {
                "azdata_cell_guid": "d9238911-6f81-4f01-980d-b584307effaf",
                "language": "sql"
            },
            "outputs": [
                {
                    "output_type": "error",
                    "evalue": "Msg 2714, Level 16, State 6, Line 1\nThere is already an object named 'planned_makes_test' in the database.",
                    "ename": "",
                    "traceback": []
                },
                {
                    "output_type": "display_data",
                    "data": {
                        "text/html": "Total execution time: 00:00:00.035"
                    },
                    "metadata": {}
                }
            ],
            "execution_count": 29
        },
        {
            "cell_type": "markdown",
            "source": [
                "Add three rows to your table that are your planned makes."
            ],
            "metadata": {
                "azdata_cell_guid": "83cdf34d-8c4f-4fa1-a14e-77384b19d734"
            }
        },
        {
            "cell_type": "code",
            "source": [
                "INSERT INTO Elizabeth.planned_makes_test(\n",
                "    Design_Name,\n",
                "    Needle_size, \n",
                "    Cuteness_rating\n",
                ") \n",
                "VALUES \n",
                "    ('Dolphin', \n",
                "    3, \n",
                "    7\n",
                "), \n",
                "    ('Mushroom', \n",
                "    1.5, \n",
                "    4\n",
                "),   \n",
                "    ('Owl', \n",
                "    2, \n",
                "    6\n",
                ")\n",
                "SELECT * FROM Elizabeth.planned_makes_test;"
            ],
            "metadata": {
                "azdata_cell_guid": "e7cff9cb-87ba-4c7b-98f2-eaf445e8719c",
                "language": "sql"
            },
            "outputs": [
                {
                    "output_type": "display_data",
                    "data": {
                        "text/html": "(3 rows affected)"
                    },
                    "metadata": {}
                },
                {
                    "output_type": "display_data",
                    "data": {
                        "text/html": "(3 rows affected)"
                    },
                    "metadata": {}
                },
                {
                    "output_type": "display_data",
                    "data": {
                        "text/html": "Total execution time: 00:00:00.041"
                    },
                    "metadata": {}
                },
                {
                    "output_type": "execute_result",
                    "metadata": {},
                    "execution_count": 24,
                    "data": {
                        "application/vnd.dataresource+json": {
                            "schema": {
                                "fields": [
                                    {
                                        "name": "Design_Name"
                                    },
                                    {
                                        "name": "Needle_size"
                                    },
                                    {
                                        "name": "Cuteness_rating"
                                    },
                                    {
                                        "name": "Notes"
                                    }
                                ]
                            },
                            "data": [
                                {
                                    "0": "Dolphin",
                                    "1": "3",
                                    "2": "7",
                                    "3": "NULL"
                                },
                                {
                                    "0": "Mushroom",
                                    "1": "1",
                                    "2": "4",
                                    "3": "NULL"
                                },
                                {
                                    "0": "Owl",
                                    "1": "2",
                                    "2": "6",
                                    "3": "NULL"
                                }
                            ]
                        },
                        "text/html": [
                            "<table>",
                            "<tr><th>Design_Name</th><th>Needle_size</th><th>Cuteness_rating</th><th>Notes</th></tr>",
                            "<tr><td>Dolphin</td><td>3</td><td>7</td><td>NULL</td></tr>",
                            "<tr><td>Mushroom</td><td>1</td><td>4</td><td>NULL</td></tr>",
                            "<tr><td>Owl</td><td>2</td><td>6</td><td>NULL</td></tr>",
                            "</table>"
                        ]
                    }
                }
            ],
            "execution_count": 24
        },
        {
            "cell_type": "markdown",
            "source": [
                "## Update a Row\n",
                "\n",
                "Change different values in one of your three rows."
            ],
            "metadata": {
                "azdata_cell_guid": "4a39b8d4-ae97-4e09-8336-c5fc6a00d76c"
            },
            "attachments": {}
        },
        {
            "cell_type": "code",
            "source": [
                "UPDATE Elizabeth.planned_makes_test\n",
                "SET Design_Name = 'Narhwal'\n",
                "WHERE Needle_size =3\n",
                "SELECT * FROM Elizabeth.planned_makes_test;"
            ],
            "metadata": {
                "azdata_cell_guid": "7409c695-9581-4ad8-b03a-574d2c4c87cb",
                "language": "sql"
            },
            "outputs": [
                {
                    "output_type": "display_data",
                    "data": {
                        "text/html": "(1 row affected)"
                    },
                    "metadata": {}
                },
                {
                    "output_type": "display_data",
                    "data": {
                        "text/html": "(3 rows affected)"
                    },
                    "metadata": {}
                },
                {
                    "output_type": "display_data",
                    "data": {
                        "text/html": "Total execution time: 00:00:00.042"
                    },
                    "metadata": {}
                },
                {
                    "output_type": "execute_result",
                    "metadata": {},
                    "execution_count": 32,
                    "data": {
                        "application/vnd.dataresource+json": {
                            "schema": {
                                "fields": [
                                    {
                                        "name": "Design_Name"
                                    },
                                    {
                                        "name": "Needle_size"
                                    },
                                    {
                                        "name": "Cuteness_rating"
                                    },
                                    {
                                        "name": "Notes"
                                    }
                                ]
                            },
                            "data": [
                                {
                                    "0": "Narhwal",
                                    "1": "3",
                                    "2": "7",
                                    "3": "NULL"
                                },
                                {
                                    "0": "Mushroom",
                                    "1": "1",
                                    "2": "4",
                                    "3": "NULL"
                                },
                                {
                                    "0": "Owl",
                                    "1": "2",
                                    "2": "6",
                                    "3": "NULL"
                                }
                            ]
                        },
                        "text/html": [
                            "<table>",
                            "<tr><th>Design_Name</th><th>Needle_size</th><th>Cuteness_rating</th><th>Notes</th></tr>",
                            "<tr><td>Narhwal</td><td>3</td><td>7</td><td>NULL</td></tr>",
                            "<tr><td>Mushroom</td><td>1</td><td>4</td><td>NULL</td></tr>",
                            "<tr><td>Owl</td><td>2</td><td>6</td><td>NULL</td></tr>",
                            "</table>"
                        ]
                    }
                }
            ],
            "execution_count": 32
        },
        {
            "cell_type": "markdown",
            "source": [
                "## Delete a Row\n",
                "\n",
                "Delete one of the rows from your table."
            ],
            "metadata": {
                "azdata_cell_guid": "95e91a6e-9038-42d9-9401-5738842aba17"
            }
        },
        {
            "cell_type": "code",
            "source": [
                "DELETE FROM Elizabeth.planned_makes_test\n",
                "WHERE Needle_size =3\n",
                "SELECT * FROM Elizabeth.planned_makes_test;"
            ],
            "metadata": {
                "azdata_cell_guid": "749c748f-19b5-4c69-9004-b6b20216616a",
                "language": "sql"
            },
            "outputs": [
                {
                    "output_type": "display_data",
                    "data": {
                        "text/html": "(1 row affected)"
                    },
                    "metadata": {}
                },
                {
                    "output_type": "display_data",
                    "data": {
                        "text/html": "(2 rows affected)"
                    },
                    "metadata": {}
                },
                {
                    "output_type": "display_data",
                    "data": {
                        "text/html": "Total execution time: 00:00:00.046"
                    },
                    "metadata": {}
                },
                {
                    "output_type": "execute_result",
                    "metadata": {},
                    "execution_count": 33,
                    "data": {
                        "application/vnd.dataresource+json": {
                            "schema": {
                                "fields": [
                                    {
                                        "name": "Design_Name"
                                    },
                                    {
                                        "name": "Needle_size"
                                    },
                                    {
                                        "name": "Cuteness_rating"
                                    },
                                    {
                                        "name": "Notes"
                                    }
                                ]
                            },
                            "data": [
                                {
                                    "0": "Mushroom",
                                    "1": "1",
                                    "2": "4",
                                    "3": "NULL"
                                },
                                {
                                    "0": "Owl",
                                    "1": "2",
                                    "2": "6",
                                    "3": "NULL"
                                }
                            ]
                        },
                        "text/html": [
                            "<table>",
                            "<tr><th>Design_Name</th><th>Needle_size</th><th>Cuteness_rating</th><th>Notes</th></tr>",
                            "<tr><td>Mushroom</td><td>1</td><td>4</td><td>NULL</td></tr>",
                            "<tr><td>Owl</td><td>2</td><td>6</td><td>NULL</td></tr>",
                            "</table>"
                        ]
                    }
                }
            ],
            "execution_count": 33
        },
        {
            "cell_type": "markdown",
            "source": [
                "## Drop the Table\n",
                "\n",
                "While this has been fun, it is time to drop the table!"
            ],
            "metadata": {
                "azdata_cell_guid": "2239cb09-137b-4579-905b-1aa020793181"
            },
            "attachments": {}
        },
        {
            "cell_type": "code",
            "source": [
                "DROP TABLE Elizabeth.planned_makes_test;\n",
                ""
            ],
            "metadata": {
                "azdata_cell_guid": "b3c7f6ea-ee26-46b3-9c2a-2f7a82c39699",
                "language": "sql"
            },
            "outputs": [
                {
                    "output_type": "display_data",
                    "data": {
                        "text/html": "Commands completed successfully."
                    },
                    "metadata": {}
                },
                {
                    "output_type": "display_data",
                    "data": {
                        "text/html": "Total execution time: 00:00:00.037"
                    },
                    "metadata": {}
                }
            ],
            "execution_count": 35
        }
    ]
}